{
 "cells": [
  {
   "cell_type": "code",
   "execution_count": 224,
   "metadata": {},
   "outputs": [],
   "source": [
    "import numpy as np\n",
    "%matplotlib inline\n",
    "import matplotlib.pyplot as plots\n",
    "plots.style.use('fivethirtyeight')\n",
    "%matplotlib inline\n",
    "import matplotlib.pyplot as plt\n",
    "import numpy as np\n",
    "import pandas as pd\n",
    "from scipy.stats import multivariate_normal, norm, uniform\n",
    "import scipy.integrate as integrate\n",
    "from ipywidgets import interact, interactive\n",
    "import seaborn as sns\n",
    "from mpl_toolkits.mplot3d import axes3d\n",
    "from matplotlib import cm\n",
    "import pickle\n",
    "import time\n",
    "\n",
    "from urllib.request import urlopen \n",
    "import re\n",
    "def read_url(url): \n",
    "    return re.sub('\\\\s+', ' ', urlopen(url).read().decode())"
   ]
  },
  {
   "cell_type": "code",
   "execution_count": 291,
   "metadata": {},
   "outputs": [],
   "source": [
    "with open(\"datasets/明实录.txt\", \"r\") as f:\n",
    "    mingshilu = f.read()"
   ]
  },
  {
   "cell_type": "code",
   "execution_count": 338,
   "metadata": {},
   "outputs": [],
   "source": [
    "pattern = r\"\\S+国\\S{0,6}遣\"\n",
    "matched = re.findall(pattern, mingshilu)\n",
    "#matched"
   ]
  },
  {
   "cell_type": "code",
   "execution_count": 427,
   "metadata": {},
   "outputs": [
    {
     "data": {
      "text/plain": [
       "['朝鲜国',\n",
       " '琉球国',\n",
       " '占城国',\n",
       " '安南国',\n",
       " '爪哇国',\n",
       " '日本国',\n",
       " '暹罗国',\n",
       " '高丽国',\n",
       " '剌加国',\n",
       " '罗斛国',\n",
       " '灌顶国',\n",
       " '真腊国',\n",
       " '答剌国',\n",
       " '葛剌国',\n",
       " '浡泥国']"
      ]
     },
     "execution_count": 427,
     "metadata": {},
     "output_type": "execute_result"
    }
   ],
   "source": [
    "country_extract = r\"\\S{2}国\"\n",
    "matched_country = []\n",
    "for i in matched:\n",
    "    matched_country.append(re.findall(country_extract, i))\n",
    "matched_country = [x for x in matched_country for x in x]\n",
    "#matched_country\n",
    "\n",
    "matched_country_df = pd.DataFrame(data = {'country': matched_country})\n",
    "sorted_country = pd.DataFrame({'country':matched_country_df.groupby('country', as_index = False).size().sort_values(ascending = False)})\n",
    "valid_countries = [list(sorted_country.index)[i] for i in (0,1,2,3,4,5,6,7,8,9,10,11,13,14,16)]\n",
    "valid_countries"
   ]
  },
  {
   "cell_type": "markdown",
   "metadata": {},
   "source": [
    "#### "
   ]
  },
  {
   "cell_type": "code",
   "execution_count": 332,
   "metadata": {},
   "outputs": [],
   "source": [
    "#question: does each chapter represents each month?\n",
    "#Pattern: 卷之chinese number space+ reign era + year + month + \n",
    "\n",
    "month_extract = r\"卷[之]?[一二三四五六七八九十百]+[）]?[上下]?\\s+\\S+[正一二三四五六七八九十]{1,2}月\"\n",
    "matched_month = re.findall(month_extract, mingshilu)\n",
    "\n",
    "#cleared year and month\n",
    "\n",
    "month_by_emperor = []\n",
    "for i in matched_month:\n",
    "    x = re.findall(r\"((洪武|建文|永乐|洪熙|宣德|正统|景泰|天顺|成化|弘治|正德|嘉靖|隆庆|万历|泰昌|天启)(\\S{0,4}年\\S{0,4}月))\", i)\n",
    "    if x != []:\n",
    "        month_by_emperor.append(x[0][0])\n",
    "#month_by_emperor"
   ]
  },
  {
   "cell_type": "code",
   "execution_count": 361,
   "metadata": {},
   "outputs": [
    {
     "data": {
      "text/plain": [
       "[('永乐十六年五月', '永乐', '十六年', '五月', ''),\n",
       " ('永乐十六年五月', '永乐', '十六年', '五月', ''),\n",
       " ('永乐元年六月', '永乐', '元年', '六月', ''),\n",
       " ('永乐元年六月', '永乐', '元年', '六月', ''),\n",
       " ('永乐元年六月', '永乐', '元年', '六月', ''),\n",
       " ('永乐元年六月', '永乐', '元年', '六月', ''),\n",
       " ('永乐元年六月', '永乐', '元年', '六月', ''),\n",
       " ('永乐元年六月', '永乐', '元年', '六月', ''),\n",
       " ('', '', '', '', '○乙卯方国珍遣'),\n",
       " ('', '', '', '', '俾见天日此国珍所素愿也谨遣')]"
      ]
     },
     "execution_count": 361,
     "metadata": {},
     "output_type": "execute_result"
    }
   ],
   "source": [
    "month_extract = r'((洪武|建文|永乐|洪熙|宣德|正统|景泰|天顺|成化|弘治|正德|嘉靖|隆庆|万历|泰昌|天启)(\\S{0,4}年)(\\S{0,4}月))|(\\S{0,5}国\\S{0,6}遣)'\n",
    "matched_month = re.findall(month_extract, mingshilu)\n",
    "matched_month[0:10]"
   ]
  },
  {
   "cell_type": "code",
   "execution_count": 489,
   "metadata": {},
   "outputs": [],
   "source": [
    "## Match tributes with month/year \n",
    "\n",
    "## use an iterator to record the last month and the last tribute \n",
    "\n",
    "final = []\n",
    "date = ['洪武元年春正月', '洪武', '元年', '春正月']\n",
    "for i in matched_month:\n",
    "    if i[0] != '' and re.findall(r'[正一二三四五六七八九十]{1,2}月', i[3]) != []:\n",
    "        date = [i[0], i[1], i[2], i[3]]\n",
    "    elif i[4] != '':\n",
    "        _country = re.findall(r'朝鲜国|琉球国|占城国|安南国|爪哇国|日本国|暹罗国|高丽国|剌加国|罗斛国|灌顶国|真腊国|答剌国|葛剌国|浡泥国', i[4])\n",
    "        if _country != []:\n",
    "            final.append([_country[0], date])"
   ]
  },
  {
   "cell_type": "code",
   "execution_count": 491,
   "metadata": {},
   "outputs": [],
   "source": [
    "## deliverable\n",
    "### a table with country, coming/going, year, month\n",
    "\n",
    "country_col = []\n",
    "emperor_col = []\n",
    "year_col = []\n",
    "month_col = []\n",
    "for i in final:\n",
    "    country_col.append(i[0])\n",
    "    emperor_col.append(i[1][1])\n",
    "    year_col.append(i[1][2])\n",
    "    month_col.append(re.findall(r'[正一二三四五六七八九十]{1,2}月',i[1][3])[0])\n",
    "\n",
    "final_df = pd.DataFrame(data = {'Country': country_col, 'Emperor': emperor_col, 'Year': year_col, 'Month': month_col})"
   ]
  },
  {
   "cell_type": "code",
   "execution_count": 493,
   "metadata": {},
   "outputs": [],
   "source": [
    "def helper(emperor):\n",
    "    if emperor == '洪武':\n",
    "        return 1\n",
    "    if emperor == '建文':\n",
    "        return 2\n",
    "    if emperor == '永乐':\n",
    "        return 3\n",
    "    if emperor == '洪熙':\n",
    "        return 4\n",
    "    if emperor == '宣德':\n",
    "        return 5\n",
    "    if emperor == '正统':\n",
    "        return 6\n",
    "    if emperor == '景泰':\n",
    "        return 7\n",
    "    if emperor == '天顺':\n",
    "        return 8\n",
    "    if emperor == '成化':\n",
    "        return 9\n",
    "    if emperor == '弘治':\n",
    "        return 10\n",
    "    if emperor == '正德':\n",
    "        return 11\n",
    "    if emperor == '嘉靖':\n",
    "        return 12\n",
    "    if emperor == '隆庆':\n",
    "        return 13\n",
    "    if emperor == '万历':\n",
    "        return 14\n",
    "    if emperor == '泰昌':\n",
    "        return 15\n",
    "    if emperor == '天启':\n",
    "        return 16\n",
    "\n",
    "final_df['Emperor Order'] = [helper(x) for x in final_df['Emperor']]\n",
    "final_df\n",
    "\n",
    "final_df.to_csv('final.csv')"
   ]
  },
  {
   "cell_type": "code",
   "execution_count": 467,
   "metadata": {},
   "outputs": [
    {
     "data": {
      "text/plain": [
       "Text(0.5, 1.0, '朝鲜分朝代朝贡图')"
      ]
     },
     "execution_count": 467,
     "metadata": {},
     "output_type": "execute_result"
    },
    {
     "data": {
      "image/png": "[encoded data removed]",
      "text/plain": [
       "<Figure size 432x288 with 1 Axes>"
      ]
     },
     "metadata": {
      "needs_background": "light"
     },
     "output_type": "display_data"
    }
   ],
   "source": [
    "by_country_emperor = final_df.groupby(['Country', 'Emperor', 'Emperor Order']).size().to_frame('count').reset_index()\n",
    "chaoxian = by_country_emperor[by_country_emperor['Country'] == '朝鲜国'].sort_values('Emperor Order')\n",
    "\n",
    "plt.rcParams['font.family'] = ['Heiti TC']\n",
    "\n",
    "plt.bar(chaoxian['Emperor'], chaoxian['count'])\n",
    "plt.title('朝鲜分朝代朝贡图')"
   ]
  },
  {
   "cell_type": "code",
   "execution_count": 122,
   "metadata": {},
   "outputs": [],
   "source": [
    "#figuring it out: is it the country coming to Ming, or the other way around\n"
   ]
  },
  {
   "cell_type": "code",
   "execution_count": 123,
   "metadata": {},
   "outputs": [],
   "source": [
    "##Bonus\n",
    "#On the lookout for typos\n",
    "#finding dates by matching 天干地支 with number "
   ]
  },
  {
   "cell_type": "code",
   "execution_count": 284,
   "metadata": {},
   "outputs": [],
   "source": [
    "## Check how many times a country show up without the word 国\n",
    "## Check with those tributes with mentions over 4\n",
    "\n",
    "country_without = r\"琉球[^遣○]{16,45}遣\"\n",
    "matched = re.findall(country_without, mingshilu)\n",
    "#len(matched)"
   ]
  },
  {
   "cell_type": "markdown",
   "metadata": {},
   "source": [
    "## Writing Sample\n",
    "### (1) literature review of scholars (what they have missed, both in theory and data)\n",
    "#### 1.1 some are some countries or some time，mine is comprehensive\n",
    "#### 1.2 this is a portion of the thesis that would compare the Song with Ming\n",
    "#### 1.3 methodology with data, regex (distant reading)\n",
    "### (2) Annual and temporal patterns (year (with in a dynasty) and month (time within a year))\n",
    "#### 2.1 Tables\n",
    "#### 2.2 Maps of different size points based on number of tributes"
   ]
  },
  {
   "cell_type": "code",
   "execution_count": null,
   "metadata": {},
   "outputs": [],
   "source": []
  },
  {
   "cell_type": "code",
   "execution_count": null,
   "metadata": {},
   "outputs": [],
   "source": []
  },
  {
   "cell_type": "code",
   "execution_count": null,
   "metadata": {},
   "outputs": [],
   "source": []
  },
  {
   "cell_type": "code",
   "execution_count": null,
   "metadata": {},
   "outputs": [],
   "source": []
  }
 ],
 "metadata": {
  "kernelspec": {
   "display_name": "Python 3",
   "language": "python",
   "name": "python3"
  },
  "language_info": {
   "codemirror_mode": {
    "name": "ipython",
    "version": 3
   },
   "file_extension": ".py",
   "mimetype": "text/x-python",
   "name": "python",
   "nbconvert_exporter": "python",
   "pygments_lexer": "ipython3",
   "version": "3.6.12"
  }
 },
 "nbformat": 4,
 "nbformat_minor": 4
}
